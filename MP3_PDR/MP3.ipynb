{
 "cells": [
  {
   "cell_type": "markdown",
   "metadata": {},
   "source": [
    "# ECE/CS 434 | MP3: IMU PDR\n",
    "<br />\n",
    "<nav>\n",
    "    <span class=\"alert alert-block alert-warning\">Due at 11:59PM March 24th 2025 on Gradescope</span> |\n",
    "</nav><br> \n",
    "\n",
    "**Name:** Heng An Cheng<br>\n",
    "**NetID:** hacheng2\n",
    "\n",
    "<hr />  "
   ]
  },
  {
   "cell_type": "markdown",
   "metadata": {},
   "source": [
    "## Objective\n",
    "In this MP, you will:\n",
    "- Implement a step estimation algorithm using accelerometer data.\n",
    "- Apply signal processing and linear algebra functions such as low/high pass filtering, peak detection, fft, etc. to the step estimation algorithm. \n",
    "- Track phone orientation through a sequence of gyroscope data by performing integration.\n",
    "- Implement simple PDR algorithm: find the final position of the user using steps, orientations and initial position"
   ]
  },
  {
   "cell_type": "markdown",
   "metadata": {},
   "source": [
    "---\n",
    "## Problem Overview\n",
    "In pedestrian dead-reckoning applications, two pieces of information need to be tracked: how far a user walked, and the direction of the walk. In the first part of this MP, you will derive the final orientation using a sequence of gyroscope data. In the second part, you will write a step estimation algorithm using accelerometer data as input and use it to calculate the final position of the user. "
   ]
  },
  {
   "cell_type": "markdown",
   "metadata": {},
   "source": [
    "---\n",
    "## Imports & Setup\n",
    "\n",
    "### Installing requirements correctly\n",
    "\n",
    "First. we will make sure that the correct versions of required modules are installed. This ensures that your local Python environment is consistent with the one running on the Gradescope autograder. Just convert the following cell to code and run:\n",
    "\n",
    "<div class=\"alert alert-block alert-info\"><b>Note:</b> It's preferred that your local environment matches the autograder to prevent possible inconsistencies. However, if you're running into annoying Python version issues but haven't had any issues getting consistent results on the autograder, there is no need to stress over it. Just skip for now and come back when you do encounter inconsistencies:) Ditto below.\n",
    "</div>"
   ]
  },
  {
   "cell_type": "markdown",
   "metadata": {},
   "source": [
    "### Your imports\n",
    "Write your import statements below. If Gradescope reports an error and you believe it is due to an unsupported import, check with the TA to see if it could be added."
   ]
  },
  {
   "cell_type": "code",
   "execution_count": 84,
   "metadata": {},
   "outputs": [],
   "source": [
    "import numpy as np\n",
    "import pandas as pd\n",
    "from pathlib import Path\n",
    "import math\n",
    "\n",
    "# This function is used to format test results. You don't need to touch it.\n",
    "def display_table(data):\n",
    "    from IPython.display import HTML, display\n",
    "\n",
    "    html = \"<table>\"\n",
    "    for row in data:\n",
    "        html += \"<tr>\"\n",
    "        for field in row:\n",
    "            html += \"<td><h4>{}</h4><td>\".format(field)\n",
    "        html += \"</tr>\"\n",
    "    html += \"</table>\"\n",
    "    display(HTML(html))"
   ]
  },
  {
   "cell_type": "markdown",
   "metadata": {},
   "source": [
    "### Sanity-check\n",
    "\n",
    "Running the following code block verifies that the correct module versions are indeed being used. \n",
    "\n",
    "Try restarting the Python kernel (or Jupyter) if there is a mismatch even after intalling the correct version. This might happen because Python's `import` statement does not reload already-loaded modules even if they are updated."
   ]
  },
  {
   "cell_type": "code",
   "execution_count": 85,
   "metadata": {},
   "outputs": [
    {
     "data": {
      "text/html": [
       "<text style='color:#f44336;weight:700;'>[✕] numpy version should to be 1.21.3, but 2.1.3 is installed.</text>"
      ],
      "text/plain": [
       "<IPython.core.display.HTML object>"
      ]
     },
     "metadata": {},
     "output_type": "display_data"
    },
    {
     "data": {
      "text/html": [
       "<text style='color:#03a9f4;weight:700;'>[–] scikit-learn is not imported, skipping version check.</text>"
      ],
      "text/plain": [
       "<IPython.core.display.HTML object>"
      ]
     },
     "metadata": {},
     "output_type": "display_data"
    },
    {
     "data": {
      "text/html": [
       "<text style='color:#f44336;weight:700;'>[✕] matplotlib version should to be 3.4.3, but 3.10.0 is installed.</text>"
      ],
      "text/plain": [
       "<IPython.core.display.HTML object>"
      ]
     },
     "metadata": {},
     "output_type": "display_data"
    },
    {
     "data": {
      "text/html": [
       "<text style='color:#f44336;weight:700;'>[✕] scipy version should to be 1.7.2, but 1.15.2 is installed.</text>"
      ],
      "text/plain": [
       "<IPython.core.display.HTML object>"
      ]
     },
     "metadata": {},
     "output_type": "display_data"
    },
    {
     "data": {
      "text/html": [
       "<text style='color:#f44336;weight:700;'>[✕] pandas version should to be 1.4.1, but 2.2.3 is installed.</text>"
      ],
      "text/plain": [
       "<IPython.core.display.HTML object>"
      ]
     },
     "metadata": {},
     "output_type": "display_data"
    }
   ],
   "source": [
    "if __name__ == '__main__':\n",
    "    from IPython.display import display, HTML\n",
    "\n",
    "    def printc(text, color):\n",
    "        display(HTML(\"<text style='color:{};weight:700;'>{}</text>\".format(color, text)))\n",
    "\n",
    "    _requirements = [r.split(\"==\") for r in open(\n",
    "        \"requirements.txt\", \"r\").read().strip().split(\"\\n\")]\n",
    "\n",
    "    import sys\n",
    "    for (module, expected_version) in _requirements:\n",
    "        try:\n",
    "            if sys.modules[module].__version__ != expected_version:\n",
    "                printc(\"[✕] {} version should to be {}, but {} is installed.\".format(\n",
    "                    module, expected_version, sys.modules[module].__version__), \"#f44336\")\n",
    "            else:\n",
    "                printc(\"[✓] {} version {} is correct.\".format(\n",
    "                    module, expected_version), \"#4caf50\")\n",
    "        except:\n",
    "            printc(\"[–] {} is not imported, skipping version check.\".format(\n",
    "                module), \"#03a9f4\")"
   ]
  },
  {
   "cell_type": "markdown",
   "metadata": {},
   "source": [
    "---\n",
    "## Part 1. 3D Orientation Tracking\n",
    "\n",
    "Assume that phone is static and phone's local coordinate frame and global/world coordinate frame are aligned at the initial moment. Perform gyro integration for each timestamp onward to calculate the phone's orientation. We will provide you with a trace of gyroscope data in CSV format. There are three columns in the file, representing the gyroscope readings in three **local** axes (unit: $rad / s$). The gyroscope is sampled at 100Hz. Your task is to track the phone’s 3D orientation and **output the end direction in which the phone’s local X axis is pointing at in the global frame**.\n",
    "\n",
    "One way of solving this problem can be:\n",
    "<ol type=\"A\">\n",
    "    <li> Assume the gyroscope’s sample interval is $\\Delta t$. </li>\n",
    "    <li> Get the phone's instant rotation axis and rotation angle in the local frame $(\\vec{l}, \\Delta \\theta)$ for each time stamp $t_{i},$ where $\\vec{l}=\\left(\\omega_{x}, \\omega_{v}, \\omega_{z}\\right)$ and $\\Delta \\theta=\\sqrt{\\left(\\omega_{x}^{2}+\\omega_{v}^{2}+\\omega_{z}^{2}\\right)} \\cdot \\Delta t$ </li>\n",
    "    <li> Project the instant rotation axis $\\vec{l}$ into the global frame using the phone's $3 \\mathrm{D}$ orientation matrix $R_{i}$ at time $t_{i}$. </li>\n",
    "    <li> Convert the instant rotation axis and angle in global frame into the form of rotation matrix $\\Delta R_{i}$. </li>\n",
    "    <li> Find the total 3D rotation matrix for time $t_{i+1}: R_{i+1}=\\Delta R_{i} \\cdot R_{i}$ </li>\n",
    "</ol>\n",
    "\n",
    "--- \n",
    "**Implement the above algorithm in `track_orientation(gyro_file)` below.** \n",
    "\n",
    "Do <b>NOT</b> change the function signature. You are, however, free to define and use helper functions."
   ]
  },
  {
   "cell_type": "code",
   "execution_count": 86,
   "metadata": {},
   "outputs": [
    {
     "data": {
      "text/plain": [
       "array([-0.03729062,  0.98638029, -0.16019777])"
      ]
     },
     "execution_count": 86,
     "metadata": {},
     "output_type": "execute_result"
    }
   ],
   "source": [
    "# This function takes 1 argument:\n",
    "#     - gyro_file (string) - name of file containing a sequence of gyroscope data\n",
    "# It returns an array representing the final global direction\n",
    "# in which the phone's local X axis is pointing.\n",
    "\n",
    "# The gyro_file is a CSV file containing a sequence of gyroscope data.\n",
    "\n",
    "# Rodrgues’ rotation formula is used to update the orientation of the phone.\n",
    "def axis_angle_to_rotation_matrix(axis, angle):\n",
    "    c = np.cos(angle)\n",
    "    s = np.sin(angle)\n",
    "    t = 1 - c\n",
    "\n",
    "    x = axis[0]\n",
    "    y = axis[1]\n",
    "    z = axis[2]\n",
    "\n",
    "    return np.array([[t*x*x + c, t*x*y - z*s, t*x*z + y*s],\n",
    "                     [t*x*y + z*s, t*y*y + c, t*y*z - x*s],\n",
    "                     [t*x*z - y*s, t*y*z + x*s, t*z*z + c]])\n",
    "\n",
    "def track_orientation(gyro_file):\n",
    "    # Your implementation starts here:\n",
    "    gyro = pd.read_csv(gyro_file)\n",
    "    gyro_data = gyro.values\n",
    "    dt = 0.01  # 100 Hz sampling rate\n",
    "\n",
    "    R = np.eye(3)  # Initial orientation (identity matrix)\n",
    "\n",
    "    for omega in gyro_data:\n",
    "        angle = np.linalg.norm(omega) * dt\n",
    "        if(angle > 1e-8):\n",
    "            axis_local = omega / np.linalg.norm(omega)\n",
    "            axis_global = R @ axis_local\n",
    "            dR = axis_angle_to_rotation_matrix(axis_global, angle)\n",
    "            R = dR @ R\n",
    "    \n",
    "    local_x_axis_in_global = R @ np.array([1, 0, 0])\n",
    "    return local_x_axis_in_global\n",
    "track_orientation('orient_data/gyro.csv')"
   ]
  },
  {
   "cell_type": "markdown",
   "metadata": {},
   "source": [
    "### Run & Test\n",
    "Use the cell below to run and test Part 1."
   ]
  },
  {
   "cell_type": "code",
   "execution_count": 87,
   "metadata": {},
   "outputs": [
    {
     "data": {
      "text/html": [
       "<table><tr><td><h4>Test</h4><td><td><h4>Dataset</h4><td><td><h4>Expected Output</h4><td><td><h4>Your Output</h4><td><td><h4>Deviation</h4><td><td><h4>Result</h4><td><td><h4>Grade</h4><td></tr><tr><td><h4>Final Orientation</h4><td><td><h4>gyro.csv</h4><td><td><h4>[-0.03729062, 0.98638029, -0.16019777]</h4><td><td><h4>[-0.03729062  0.98638029 -0.16019777]</h4><td><td><h4>0.00°</h4><td><td><h4>PASSED</h4><td><td><h4>10 / 10</h4><td></tr><tr><td><h4><i>👻 Hidden test 1 👻</i></h4><td><td><h4><i>???</i></h4><td><td><h4><i>???</i></h4><td><td><h4><i>???</i></h4><td><td><h4><i>???</i></h4><td><td><h4><i>???</i></h4><td><td><h4><i>???</i> / 10</h4><td></tr><tr><td><h4><i>...</i></h4><td><td><h4><i>...</i></h4><td><td><h4><i>...</i></h4><td><td><h4><i>...</i></h4><td><td><h4><i>...</i></h4><td><td><h4><i>...</i></h4><td><td><h4><i>...</i></h4><td></tr><tr><td><h4><i>👻 Hidden test 4 👻</i></h4><td><td><h4><i>???</i></h4><td><td><h4><i>???</i></h4><td><td><h4><i>???</i></h4><td><td><h4><i>???</i></h4><td><td><h4><i>???</i></h4><td><td><h4><i>???</i> / 10</h4><td></tr></table>"
      ],
      "text/plain": [
       "<IPython.core.display.HTML object>"
      ]
     },
     "metadata": {},
     "output_type": "display_data"
    }
   ],
   "source": [
    "def get_deviation(calculated, expected):\n",
    "    calculated = np.array(calculated)\n",
    "    expected = np.array(expected)\n",
    "    with np.errstate(divide='ignore', invalid='ignore'):\n",
    "        dot_prod = np.dot(calculated, expected) / \\\n",
    "            np.linalg.norm(calculated) / np.linalg.norm(expected)\n",
    "        return np.degrees(np.arccos(dot_prod))\n",
    "\n",
    "\n",
    "if __name__ == '__main__':\n",
    "    gt_final = [-0.03729062, 0.98638029, -0.16019777]\n",
    "    stu_final = track_orientation('orient_data/gyro.csv')\n",
    "    output = [['Test', 'Dataset', 'Expected Output',\n",
    "               'Your Output', 'Deviation', 'Result', 'Grade']]\n",
    "    final_state = 'FAILED'\n",
    "    final_grade = 0\n",
    "    final_dev = get_deviation(stu_final, gt_final)\n",
    "    if(final_dev < 2):\n",
    "        final_state = 'PASSED'\n",
    "        final_grade = 10\n",
    "    output.append(['Final Orientation', 'gyro.csv',\n",
    "                  gt_final, stu_final, \"{:2.2f}°\".format(final_dev), final_state, \"{} / 10\".format(final_grade)])\n",
    "    output.append(['<i>👻 Hidden test 1 👻</i>','<i>???</i>', '<i>???</i>', '<i>???</i>', '<i>???</i>', '<i>???</i>', '<i>???</i> / 10'])\n",
    "    output.append(['<i>...</i>', '<i>...</i>', '<i>...</i>', '<i>...</i>', '<i>...</i>', '<i>...</i>', '<i>...</i>'])\n",
    "    output.append(['<i>👻 Hidden test 4 👻</i>','<i>???</i>', '<i>???</i>', '<i>???</i>', '<i>???</i>', '<i>???</i>', '<i>???</i> / 10'])\n",
    "    display_table(output)"
   ]
  },
  {
   "cell_type": "markdown",
   "metadata": {},
   "source": [
    "---\n",
    "## Part 2. Step Estimation\n",
    "We have provided you with smartphone accelerometer data collected under three circumstances\n",
    "<ol type=\"A\">\n",
    "  <li>walking with phone in pant pocket</li>\n",
    "  <li>walking with phone held in the hand statically as if the user is looking at it while walking</li>\n",
    "  <li>walking with phone in hand and the hand swinging</li>\n",
    "</ol>\n",
    "\n",
    "there are three columns, representing the accelerometer readings in three local axes(unit: $m / s^{2}$). The accelerometer is sampled at 100Hz.\n",
    "\n",
    "Implement your algorithm in the `calculate_steps(accl_data)` and `calculate_final_position(steps_with_walking_direction, start_position)` functions below. Do NOT change the function signatures. You are, however, free to define and use helper functions. You are expected to use common signal processing and linear algebra functions (e.g., high/low pass filtering, convolution, cross correllation, peak detection, fft etc.) \n",
    "\n",
    "<b>TIP:</b> It may help to first visualize the accelerometer data like you did in MP1."
   ]
  },
  {
   "cell_type": "code",
   "execution_count": 88,
   "metadata": {},
   "outputs": [
    {
     "data": {
      "image/png": "[encoded data removed]",
      "text/plain": [
       "<Figure size 1000x1500 with 3 Axes>"
      ]
     },
     "metadata": {},
     "output_type": "display_data"
    }
   ],
   "source": [
    "import matplotlib.pyplot as plt\n",
    "# read the data\n",
    "folder = 'accel_data/'\n",
    "a_data = pd.read_csv(folder+'holdstatic_20steps.csv')\n",
    "b_data = pd.read_csv(folder+'inpocket_36steps.csv')\n",
    "c_data = pd.read_csv(folder+'swing_32steps.csv')\n",
    "\n",
    "# Create subplots for each dataset\n",
    "fig, axs = plt.subplots(3, 1, figsize=(10, 15))\n",
    "\n",
    "def plot_data(ax, data, title):\n",
    "    ax.plot(data.index, data.iloc[:, 0], label='x')\n",
    "    ax.plot(data.index, data.iloc[:, 1], label='y')\n",
    "    ax.plot(data.index, data.iloc[:, 2], label='z')\n",
    "    ax.plot(data.index, np.linalg.norm(data[['x', 'y', 'z']].values, axis=1), label='norm', linestyle='--')\n",
    "    ax.set_xlabel('Time')\n",
    "    ax.set_ylabel('Acceleration ($m/s^2$)')\n",
    "    ax.set_title(title)\n",
    "    ax.legend()\n",
    "#plot_data(axs[0], a_data, 'holdstatic_20steps.csv')\n",
    "#plot_data(axs[1], b_data, 'inpocket_36steps.csv')\n",
    "#plot_data(axs[2], c_data, 'swing_32steps.csv')\n",
    "\n",
    "# Adjust layout\n",
    "#plt.tight_layout()\n",
    "#plt.show()"
   ]
  },
  {
   "cell_type": "code",
   "execution_count": 89,
   "metadata": {},
   "outputs": [],
   "source": [
    "import numpy as np\n",
    "import scipy.signal as signal\n",
    "def get_step_length():\n",
    "    \"\"\"\n",
    "    step length is approximated to be proportional to the height of pedestrian\n",
    "    \"\"\"\n",
    "    height=1.75 # in meters\n",
    "    return 0.415*height\n",
    "\n",
    "\n",
    "def calculate_steps(accl_data):\n",
    "    \"\"\"\n",
    "    :param accel_data: pandas dataframe with 3 columns, \"x\", \"y\", \"z\" representing acceleration in m/s^2 \n",
    "    and index of dataframe is \"timestamp\"\n",
    "    \n",
    "    returns: pandas dataframe with 2 columns \"timestamp\" and \"steplength\" \n",
    "    \n",
    "    for this MP assume that the step length is same for each step, \n",
    "    use the get_step_length function to get the step length\n",
    "    \n",
    "    the timestamp is the time when the step is detected\n",
    "    \n",
    "    NOTE: timestamps should be among the values in the timestamp column, \n",
    "    you are not expected to do any time interpolation\n",
    "    \"\"\"\n",
    "    # Step 1: acc magnitude\n",
    "    a_mag = np.linalg.norm(accl_data[['x', 'y', 'z']].values, axis=1)\n",
    "    timestamps = accl_data.index.values\n",
    "\n",
    "    # Step 2: high-pass filter to remove gravity\n",
    "    b, a = signal.butter(2, 0.5 / 50, 'high')  # 0.5 Hz cut-off, fs = 100 Hz\n",
    "    a_mag_hp = signal.filtfilt(b, a, a_mag)\n",
    "\n",
    "    # Step 3: moving average filter to smooth the signal and remove noise\n",
    "    window_size = 20\n",
    "    a_mag_smooth = np.convolve(a_mag_hp, np.ones(window_size) / window_size, mode='same')\n",
    "\n",
    "    # Step 4: peak detection\n",
    "    peaks, _ = signal.find_peaks(\n",
    "        a_mag_smooth,\n",
    "        prominence=1.0,   \n",
    "        distance=20,      \n",
    "        height=0.5 \n",
    "    )\n",
    "    steps_df = pd.DataFrame({\n",
    "        'timestamp': timestamps[peaks],\n",
    "        'steplength': get_step_length()\n",
    "    })\n",
    "    #print(steps_df)\n",
    "    return steps_df\n",
    "\n",
    "def calculate_final_position(steps_with_walking_direction, start_position):\n",
    "    \"\"\" \n",
    "    :param steps_with_walking_direction: pandas dataframe with 3 columns \"timestamp\", \"steplength\", and \"walking_direction\"\n",
    "    \n",
    "    walking_direction is an angle in degrees with global frame x-axis. It can be from 0 degrees to 360 degrees.\n",
    "    for e.g. if walking direction is 90 degrees, user is walking in the positive y-axis direction\n",
    "    \n",
    "    NOTE: In the given test cases, the walking direction is same through out the trajectory \n",
    "    but in hidden cases the walking direction may change\n",
    "    \n",
    "    step_length is in meters\n",
    "    \n",
    "    :param start_position: starting position of the user. It is tuple (x,y)\n",
    "    \n",
    "    return (x,y) coordinate of the final position in meters\n",
    "    \"\"\"\n",
    "    step_length = get_step_length()  # meters\n",
    "    \n",
    "    directions = steps_with_walking_direction['walking_direction'].astype(float).values/180*np.pi\n",
    "    dx_all = step_length * np.cos(directions)\n",
    "    dy_all = step_length * np.sin(directions)\n",
    "    x = dx_all.sum().astype(float)+start_position[0]\n",
    "    y = dy_all.sum().astype(float)+start_position[1]\n",
    "\n",
    "    return (x, y)"
   ]
  },
  {
   "cell_type": "markdown",
   "metadata": {},
   "source": [
    "### Run & Test\n",
    "Use the cell below to run and test `calculate_steps(accl_data)` and `calculate_final_position(steps_with_walking_direction, start_position)`. "
   ]
  },
  {
   "cell_type": "code",
   "execution_count": 90,
   "metadata": {},
   "outputs": [
    {
     "data": {
      "text/html": [
       "<table><tr><td><h4>Dataset</h4><td><td><h4>Expected Number Steps</h4><td><td><h4>Your Number of Steps</h4><td><td><h4>Expected Final Position</h4><td><td><h4>Your Final Position</h4><td><td><h4>Grade</h4><td></tr><tr><td><h4>holdstatic_20steps.csv</h4><td><td><h4>20</h4><td><td><h4>20</h4><td><td><h4>(12.58, 7.26)</h4><td><td><h4>(np.float64(12.579018989968974), np.float64(7.262499999999999))</h4><td><td><h4>5.00 / 5.00</h4><td></tr><tr><td><h4>inpocket_26steps.csv</h4><td><td><h4>26</h4><td><td><h4>26</h4><td><td><h4>(18.88, 0.0)</h4><td><td><h4>(np.float64(18.8825), np.float64(0.0))</h4><td><td><h4>5.00 / 5.00</h4><td></tr><tr><td><h4>inpocket_36steps.csv</h4><td><td><h4>36</h4><td><td><h4>37</h4><td><td><h4>(0.0, 26.14)</h4><td><td><h4>(np.float64(1.6453895150794152e-15), np.float64(26.87125))</h4><td><td><h4>5.00 / 5.00</h4><td></tr><tr><td><h4>swing_32steps.csv</h4><td><td><h4>32</h4><td><td><h4>32</h4><td><td><h4>(-23.24, 0.0)</h4><td><td><h4>(np.float64(-23.24), np.float64(2.8460791612184486e-15))</h4><td><td><h4>5.00 / 5.00</h4><td></tr><tr><td><h4>swing_38steps.csv</h4><td><td><h4>38</h4><td><td><h4>38</h4><td><td><h4>(0.0, -27.6)</h4><td><td><h4>(np.float64(-5.06957850592036e-15), np.float64(-27.5975))</h4><td><td><h4>5.00 / 5.00</h4><td></tr><tr><td><h4><i>👻 Hidden test 1 👻</i></h4><td><td><h4><i>???</i></h4><td><td><h4><i>???</i></h4><td><td><h4><i>???</i></h4><td><td><h4><i>???</i></h4><td><td><h4><i>???</i> / 15.00</h4><td></tr><tr><td><h4><i>...</i></h4><td><td><h4><i>...</i></h4><td><td><h4><i>...</i></h4><td><td><h4><i>...</i></h4><td><td><h4><i>...</i></h4><td><td><h4><i>...</i></h4><td></tr><tr><td><h4><i>👻 Hidden test 5 👻</i></h4><td><td><h4><i>???</i></h4><td><td><h4><i>???</i></h4><td><td><h4><i>???</i></h4><td><td><h4><i>???</i></h4><td><td><h4><i>???</i> / 15.00</h4><td></tr></table>"
      ],
      "text/plain": [
       "<IPython.core.display.HTML object>"
      ]
     },
     "metadata": {},
     "output_type": "display_data"
    }
   ],
   "source": [
    "def estimate_steps_score(calculated, expected):\n",
    "    delta = abs(calculated - expected)\n",
    "    return 1 if(delta <= 2) else max((1 - abs(delta - 2) / expected), 0)\n",
    "\n",
    "def estimate_pdr_score(calculated, expected):\n",
    "    error = math.sqrt((calculated[0] - expected[0])**2 + (calculated[1] - expected[1])**2)\n",
    "    # error more than 5 meters, score is 0\n",
    "    return 1.0 if (error <= 2.0) else max(0, 1-(error-2.0)/3)\n",
    "\n",
    "\n",
    "if __name__ == '__main__':\n",
    "    data_dir = \"accel_data\"\n",
    "    walk_accl_files = ['holdstatic_20steps.csv', 'inpocket_26steps.csv',\n",
    "                       'inpocket_36steps.csv', 'swing_32steps.csv', 'swing_38steps.csv']\n",
    "    groundtruth_numsteps = [20, 26, 36, 32, 38]\n",
    "    groundtruth_final_positions = [(12.58, 7.26), (18.88, 0.0), (0.0, 26.14), (-23.24, 0.0), (0.0, -27.6)]\n",
    "    output = [['Dataset', 'Expected Number Steps', 'Your Number of Steps', 'Expected Final Position', 'Your Final Position', 'Grade']]\n",
    "    for i in range(len(groundtruth_numsteps)):\n",
    "        accel_data = pd.read_csv(str(Path(data_dir) / walk_accl_files[i]))\n",
    "        accel_data = accel_data.set_index(\"timestamp\", drop=True)\n",
    "        calculated = calculate_steps(accel_data)\n",
    "        assert len(calculated.columns)==2\n",
    "        assert \"timestamp\" in calculated.columns\n",
    "        assert \"steplength\" in calculated.columns\n",
    "        calculated_num_steps = calculated.shape[0]\n",
    "        calculated[\"walking_direction\"] = accel_data[\"walking_direction\"][calculated[\"timestamp\"]].values\n",
    "        calculated_final_position = calculate_final_position(calculated, (0.0,0.0))\n",
    "        steps_score = estimate_steps_score(calculated_num_steps, groundtruth_numsteps[i])\n",
    "        pdr_score = estimate_pdr_score(calculated_final_position, groundtruth_final_positions[i])\n",
    "        # final score is weighted sum of both scores\n",
    "        score = 0.7*steps_score + 0.3*pdr_score\n",
    "        output.append([walk_accl_files[i], groundtruth_numsteps[i],\n",
    "                      calculated_num_steps, groundtruth_final_positions[i], calculated_final_position,  \"{:2.2f} / 5.00\".format(score * 5)])\n",
    "    output.append(['<i>👻 Hidden test 1 👻</i>','<i>???</i>', '<i>???</i>','<i>???</i>', '<i>???</i>', '<i>???</i> / 15.00'])\n",
    "    output.append(['<i>...</i>', '<i>...</i>', '<i>...</i>', '<i>...</i>', '<i>...</i>', '<i>...</i>'])\n",
    "    output.append(['<i>👻 Hidden test 5 👻</i>','<i>???</i>', '<i>???</i>','<i>???</i>', '<i>???</i>', '<i>???</i> / 15.00'])\n",
    "    display_table(output)"
   ]
  },
  {
   "cell_type": "markdown",
   "metadata": {},
   "source": [
    "---\n",
    "## Rubric\n",
    "\n",
    "####  Orientation Tracking (100 points) \n",
    "You will be graded on the provided data as well as 4 addition sets of data. They are each worth 20 points. A 2-degree error is tolerated. For results greater than the error threshold, no points will be rewarded since we provided a detailed algorithm to follow. The test data also include the simple case where the phone will only rotate along Z axis onwards. (In case you find the MP too difficult, only doing 1D integration on Z axis should at least give you some points.)\n",
    "\n",
    "#### Step Estimation (100 points) \n",
    "You will be graded on the 5 sets of provided data (5 points each), as well as 5 sets of hidden data (15 points each). For each test case, the grade depends on how much the result deviates from the groudtruth. A 2-step error for the provided data is tolerated. A 4-step error for the hidden data is tolerated. For results greater than the error threshold, your score will be scaled proportionally. The score is the weighted sum of PDR error i.e., deviation from the final position and the step count detection accuracy."
   ]
  },
  {
   "cell_type": "markdown",
   "metadata": {},
   "source": [
    "---\n",
    "## Submission Guideline\n",
    "This Jupyter notebook is the only file you need to submit on Gradescope. Make sure to fill your name at the top of this file.\n",
    "\n",
    "**Make sure any code you added to this notebook, except for import statements, is either in a function or guarded by `__main__`(which won't be run by the autograder). Gradescope will give you immediate feedback using the provided test cases. It is your responsibility to check the output before the deadline to ensure your submission runs with the autograder.**"
   ]
  }
 ],
 "metadata": {
  "kernelspec": {
   "display_name": "Python 3 (ipykernel)",
   "language": "python",
   "name": "python3"
  },
  "language_info": {
   "codemirror_mode": {
    "name": "ipython",
    "version": 3
   },
   "file_extension": ".py",
   "mimetype": "text/x-python",
   "name": "python",
   "nbconvert_exporter": "python",
   "pygments_lexer": "ipython3",
   "version": "3.13.1"
  }
 },
 "nbformat": 4,
 "nbformat_minor": 4
}
