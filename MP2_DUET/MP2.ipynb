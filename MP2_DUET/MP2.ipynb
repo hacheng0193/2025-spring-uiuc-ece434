{
 "cells": [
  {
   "cell_type": "markdown",
   "metadata": {
    "id": "dPszpz29ddUD"
   },
   "source": [
    "# ECE/CS 434 | MP2: DUET\n",
    "<br />\n",
    "<nav>\n",
    "    <span class=\"alert alert-block alert-warning\">Due on Wednesday March 3 11:59PM on Gradescope</span>\n",
    "   \n",
    "</nav><br> \n"
   ]
  },
  {
   "cell_type": "markdown",
   "metadata": {
    "id": "4t9qXUJkddUH"
   },
   "source": [
    "## Objective\n",
    "In this MP, you will:\n",
    "- Implement DUET algorithm to separate a mixture of N voice signals from received from two microphones"
   ]
  },
  {
   "cell_type": "markdown",
   "metadata": {
    "id": "7g3IdFpLddUH"
   },
   "source": [
    "---\n",
    "## Problem Overview\n",
    "Consider a problem of separating N sources ($S_1$, $S_2$, ... $S_N$) from recordings on 2 microphones ($R_1$ and $R_2$).\n",
    "According to DUET algorithm, you will need to perform the following steps:\n",
    "\n",
    "- Calculate the short-time Fourier transform of two received signals to get the time-frequency spectrograms\n",
    "- Calculate the ratio of the two time-frequency spectrograms to get relative delay and attenuation\n",
    "- Cluster the time-frequency bins in the 2D space spanned by relative delay and attenuation\n",
    "- Recover the original N signals based on the clustering results\n",
    "\n",
    "You can refer to the original DUET paper in ICASSP 2000: \"Blind separation of disjoint orthogonal signals: demixing N sources from 2 mixtures\" and this tutorial in Blind speech separation, 2007 - Springer: \"The DUET blind source separation algorithm\"\n",
    "\n",
    "For the sake of easier clustering, the exact number of sources N will be provided to you.\n",
    "\n",
    "You can assume there is no time-frequency bin collision for any two sources."
   ]
  },
  {
   "cell_type": "markdown",
   "metadata": {
    "id": "-nC62qJrddUI"
   },
   "source": [
    "---\n",
    "## Imports & Setup\n",
    "To run the grading script of this MP, you will need to install the Python [SpeechRecognition](https://pypi.org/project/SpeechRecognition/) package. The SpeechRecognition package also requires the dependency [pocketsphinx](https://pypi.org/project/pocketsphinx/). You may directly use pip install to install both packages.\n",
    "The following `code` cell, when run, imports the libraries you might need for this MP. Feel free to delete or import other commonly used libraries. Double check with the TA if you are unsure if a library is supported."
   ]
  },
  {
   "cell_type": "code",
   "execution_count": 190,
   "metadata": {
    "id": "Uh9Jqy_YddUI"
   },
   "outputs": [],
   "source": [
    "import numpy as np\n",
    "import scipy.io.wavfile\n",
    "import speech_recognition as sr\n",
    "\n",
    "if __name__ == '__main__':\n",
    "    import matplotlib.pyplot as plt\n",
    "    plt.style.use(\"seaborn-v0_8\") # This sets the matplotlib color scheme to something more soothing\n",
    "    from IPython import get_ipython\n",
    "    get_ipython().run_line_magic('matplotlib', 'inline')\n",
    "\n",
    "# This function is used to format test results. You don't need to touch it.\n",
    "def display_table(data):\n",
    "    from IPython.display import HTML, display\n",
    "    html = \"<table>\"\n",
    "    for row in data:\n",
    "        html += \"<tr>\"\n",
    "        for field in row:\n",
    "            html += \"<td><h4>%s</h4><td>\"%(field)\n",
    "        html += \"</tr>\"\n",
    "    html += \"</table>\"\n",
    "    display(HTML(html))"
   ]
  },
  {
   "cell_type": "markdown",
   "metadata": {
    "id": "ljqhWoW4ddUJ"
   },
   "source": [
    "### Sanity-check\n",
    "\n",
    "Running the following code block verifies that the correct module versions are indeed being used. \n",
    "\n",
    "Try restarting the Python kernel (or Jupyter) if there is a mismatch even after intalling the correct version. This might happen because Python's `import` statement does not reload already-loaded modules even if they are updated."
   ]
  },
  {
   "cell_type": "code",
   "execution_count": 191,
   "metadata": {
    "id": "dixvUHQ_ddUK"
   },
   "outputs": [
    {
     "data": {
      "text/html": [
       "<text style='color:#4caf50;weight:700;'>[✓] scipy version 1.15.2 is correct.</text>"
      ],
      "text/plain": [
       "<IPython.core.display.HTML object>"
      ]
     },
     "metadata": {},
     "output_type": "display_data"
    },
    {
     "data": {
      "text/html": [
       "<text style='color:#4caf50;weight:700;'>[✓] speech_recognition version 3.14.1 is correct.</text>"
      ],
      "text/plain": [
       "<IPython.core.display.HTML object>"
      ]
     },
     "metadata": {},
     "output_type": "display_data"
    },
    {
     "data": {
      "text/html": [
       "<text style='color:#4caf50;weight:700;'>[✓] numpy version 2.2.2 is correct.</text>"
      ],
      "text/plain": [
       "<IPython.core.display.HTML object>"
      ]
     },
     "metadata": {},
     "output_type": "display_data"
    },
    {
     "data": {
      "text/html": [
       "<text style='color:#4caf50;weight:700;'>[✓] matplotlib version 3.10.0 is correct.</text>"
      ],
      "text/plain": [
       "<IPython.core.display.HTML object>"
      ]
     },
     "metadata": {},
     "output_type": "display_data"
    }
   ],
   "source": [
    "if __name__ == '__main__':\n",
    "    from IPython.display import display, HTML\n",
    "\n",
    "    def printc(text, color):\n",
    "        display(HTML(\"<text style='color:{};weight:700;'>{}</text>\".format(color, text)))\n",
    "\n",
    "    _requirements = [r.split(\"==\") for r in open(\n",
    "        \"packages.txt\", \"r\").read().split(\"\\n\")]\n",
    "\n",
    "    import sys\n",
    "    for (module, expected_version) in _requirements:\n",
    "        try:\n",
    "            if sys.modules[module].__version__ != expected_version:\n",
    "                printc(\"[✕] {} version should to be {}, but {} is installed.\".format(\n",
    "                    module, expected_version, sys.modules[module].__version__), \"#f44336\")\n",
    "            else:\n",
    "                printc(\"[✓] {} version {} is correct.\".format(\n",
    "                    module, expected_version), \"#4caf50\")\n",
    "        except:\n",
    "            printc(\"[–] {} is not imported, skipping version check.\".format(\n",
    "                module), \"#03a9f4\")"
   ]
  },
  {
   "cell_type": "markdown",
   "metadata": {
    "id": "JRrGNFqRddUK"
   },
   "source": [
    "---\n",
    "## Your Implementation\n",
    "Implement your localization algorithm in the function `duet_source_separation(mic_data_folder, NUM_SOURCES)`. Do **NOT** change its function signature. You are, however, free to define and use helper functions. \n",
    "\n",
    "Your implementation for `duet_source_separation` function should **NOT** output any plots or data. It should only return the user's calculated location."
   ]
  },
  {
   "cell_type": "code",
   "execution_count": 192,
   "metadata": {
    "id": "UisT3IqdddUL"
   },
   "outputs": [],
   "source": [
    "import scipy.io.wavfile\n",
    "import scipy.signal\n",
    "import numpy as np\n",
    "from sklearn.cluster import KMeans\n",
    "\n",
    "\n",
    "def duet_source_separation(mic_data_folder, NUM_SOURCES):\n",
    "    \"\"\"DUET source separation algorithm.\n",
    "\n",
    "    Args:\n",
    "        mic_data_folder: name of folder (without a trailing slash) containing\n",
    "                         two mic datafiles `0.wav` and `1.wav`.\n",
    "        NUM_SOURCES: The number of sources to recover.\n",
    "\n",
    "    Returns:\n",
    "        NUM_SOURCES * recording_length numpy array, where NUM_SOURCES is the number of sources,\n",
    "        and recording_length is the original length of the recording (in number of samples)\n",
    "    \"\"\"\n",
    "    n_clusters = NUM_SOURCES\n",
    "    # --- Step 1: Load Audio Files ---\n",
    "    try:\n",
    "        sr_0, mic_0 = scipy.io.wavfile.read(f\"{mic_data_folder}/0.wav\")\n",
    "        sr_1, mic_1 = scipy.io.wavfile.read(f\"{mic_data_folder}/1.wav\")\n",
    "    except FileNotFoundError:\n",
    "        raise FileNotFoundError(f\"Audio files not found in {mic_data_folder}.  Ensure '0.wav' and '1.wav' exist.\")\n",
    "    except ValueError as e:  # Catch ValueError from scipy.io.wavfile.read\n",
    "        raise ValueError(\"Audio file could not be read as PCM WAV, AIFF/AIFF-C, or Native FLAC; check if file is corrupted or in another format\") from e\n",
    "    except Exception as e:\n",
    "        raise Exception(f\"Error reading audio files: {e}\")\n",
    "    # Ensure sample rates are the same\n",
    "    if sr_0 != sr_1:\n",
    "        raise ValueError(\"Sample rates of the two microphones must be the same.\")\n",
    "    sr = sr_0  # Use the common sample rate\n",
    "\n",
    "    def high_pass_filter(signal, cutoff_freq, sr, order=5):\n",
    "        nyquist = 0.5 * sr\n",
    "        normal_cutoff = cutoff_freq / nyquist\n",
    "        b, a = scipy.signal.butter(order, normal_cutoff, btype='high', analog=False)\n",
    "        return scipy.signal.lfilter(b, a, signal)\n",
    "    \n",
    "    mic_0 = high_pass_filter(mic_0, 20, sr)\n",
    "    mic_1 = high_pass_filter(mic_1, 20, sr)\n",
    "    # --- Step 1: Create Low Pass Filter ---\n",
    "    def low_pass_filter(signal, cutoff_freq, sr, order=5):\n",
    "        nyquist = 0.5 * sr\n",
    "        normal_cutoff = cutoff_freq / nyquist\n",
    "        b, a = scipy.signal.butter(order, normal_cutoff, btype='low', analog=False)\n",
    "        return scipy.signal.lfilter(b, a, signal)\n",
    "\n",
    "    cutoff_freq = 4000  # Cutoff frequency in Hz\n",
    "    mic_0 = low_pass_filter(mic_0, cutoff_freq, sr)\n",
    "    mic_1 = low_pass_filter(mic_1, cutoff_freq, sr)\n",
    "    \n",
    "    # --- Step 2: Calculate STFT ---\n",
    "    n_fft = 1024  # Window size\n",
    "    hop_length = n_fft // 2  # Hop size\n",
    "    window = 'hann'  # Window type\n",
    "\n",
    "    F, T, stft_0 = scipy.signal.stft(mic_0, sr, window=window, nperseg=n_fft, noverlap=n_fft - hop_length)\n",
    "    F, T, stft_1 = scipy.signal.stft(mic_1, sr, window=window, nperseg=n_fft, noverlap=n_fft - hop_length)\n",
    "    \n",
    "    \n",
    "    # Convert to mono if stereo\n",
    "    if len(mic_0.shape) > 1:\n",
    "        mic_0 = np.mean(mic_0, axis=1)\n",
    "    if len(mic_1.shape) > 1:\n",
    "        mic_1 = np.mean(mic_1, axis=1)\n",
    "\n",
    "    recording_length = len(mic_0)  # Get length before normalization\n",
    "    original_dtype = mic_0.dtype  # Store original data type\n",
    "\n",
    "    # Normalize the signals to float32 for processing\n",
    "    mic_0 = mic_0.astype(np.float32) / np.iinfo(original_dtype).max if np.issubdtype(original_dtype, np.integer) else mic_0.astype(np.float32)\n",
    "    mic_1 = mic_1.astype(np.float32) / np.iinfo(original_dtype).max if np.issubdtype(original_dtype, np.integer) else mic_1.astype(np.float32)\n",
    "\n",
    "    # Find the threshold of the top 10% magnitude of stft_0\n",
    "    log_magnitude_stft_0 = np.log(np.abs(stft_0) + 1e-10)\n",
    "    log_magnitude_stft_1 = np.log(np.abs(stft_1) + 1e-10)\n",
    "    threshold = np.percentile(log_magnitude_stft_0, 95)\n",
    "    #print(f\"Threshold for top 10% magnitude of stft_0: {threshold}\")\n",
    "\n",
    "    delta_t = []\n",
    "    delay_times = []\n",
    "    for i in range(0,F.shape[0]):\n",
    "        for j in range(0,T.shape[0]):\n",
    "            \n",
    "            frequency = F[i]\n",
    "            phase_diff = np.angle(stft_0[i,j]) - np.angle(stft_1[i,j])\n",
    "            dt = phase_diff / (2 * np.pi * frequency+1e-10)\n",
    "            delay_times.append(dt)\n",
    "            if(frequency>1000 or frequency<20): # remove aliasing\n",
    "                continue\n",
    "            if(np.log(np.abs(stft_0[i,j])) < threshold):\n",
    "                continue\n",
    "            if(abs(dt)>0.2/340):\n",
    "                continue\n",
    "            delta_t.append(dt)\n",
    "    delta_t = np.array(delta_t)\n",
    "    delay_times = np.array(delay_times)\n",
    "\n",
    "\n",
    "\n",
    "\n",
    "    # --- Step 4: Perform K-Means Clustering ---\n",
    "    # Cluster the time-frequency bins into N clusters\n",
    "\n",
    "    # Cluster the delta_t values\n",
    "    kmeans = KMeans(n_clusters=n_clusters, random_state=42)\n",
    "    labels = kmeans.fit_predict(delta_t.reshape(-1, 1))\n",
    "    #print(\"Cluster centers:\", kmeans.cluster_centers_)\n",
    "\n",
    "    # using the cluster centers to predict the masks for the delay times\n",
    "    masks = kmeans.predict(delay_times.reshape(-1, 1))\n",
    "    masks = masks.reshape(stft_0.shape)\n",
    "    #print(masks.shape)\n",
    "\n",
    "    sources = []\n",
    "    for k in range(n_clusters):\n",
    "        # Apply mask to S_R1 to isolate bins for source k\n",
    "        S_source_k = stft_0 * (masks==k)\n",
    "        # Reconstruct the time-domain signal\n",
    "        source_k = scipy.signal.istft(S_source_k, sr, window=window, nperseg=n_fft, noverlap=n_fft - hop_length)[1]\n",
    "        sources.append(source_k)\n",
    "        scipy.io.wavfile.write(f\"{k}.wav\", sr, source_k.astype(np.int16))\n",
    "    \n",
    "    \n",
    "    output = np.array(sources).astype(np.int16)\n",
    "    return output"
   ]
  },
  {
   "cell_type": "markdown",
   "metadata": {
    "id": "Mysy5nucddUL"
   },
   "source": [
    "---\n",
    "## Running and Testing\n",
    "Use the cell below to run and test your code, and to get an estimate of your grade."
   ]
  },
  {
   "cell_type": "code",
   "execution_count": 193,
   "metadata": {
    "id": "CXQicdJJddUL"
   },
   "outputs": [
    {
     "data": {
      "text/html": [
       "<table><tr><td><h4>Dataset</h4><td><td><h4>Expected Output</h4><td><td><h4>Your Output</h4><td><td><h4>Grade</h4><td><td><h4>Points Awarded</h4><td></tr><tr><td><h4>1</h4><td><td><h4>{'hello how are you'}</h4><td><td><h4>{'hello how are you'}</h4><td><td><h4>100.00%</h4><td><td><h4>5.00 / 5.0</h4><td></tr><tr><td><h4>2</h4><td><td><h4>{'how are you', 'nice to meet you'}</h4><td><td><h4>{'how are you', 'nice to meet you'}</h4><td><td><h4>100.00%</h4><td><td><h4>5.00 / 5.0</h4><td></tr><tr><td><h4>3</h4><td><td><h4>{'good morning', 'how are you', 'nice to meet you'}</h4><td><td><h4>{'good morning', 'how are you', 'nice to meet you'}</h4><td><td><h4>100.00%</h4><td><td><h4>5.00 / 5.0</h4><td></tr><tr><td><h4><i>👻 Hidden test 1 👻</i></h4><td><td><h4><i>???</i></h4><td><td><h4><i>???</i></h4><td><td><h4><i>???</i></h4><td><td><h4><i>???</i> / 10.0</h4><td></tr><tr><td><h4><i>...</i></h4><td><td><h4><i>...</i></h4><td><td><h4><i>...</i></h4><td><td><h4><i>...</i></h4><td><td><h4><i>...</i></h4><td></tr><tr><td><h4><i>👻 Hidden test 7 👻</i></h4><td><td><h4><i>???</i></h4><td><td><h4><i>???</i></h4><td><td><h4><i>???</i></h4><td><td><h4><i>???</i> / 10.0</h4><td></tr></table>"
      ],
      "text/plain": [
       "<IPython.core.display.HTML object>"
      ]
     },
     "metadata": {},
     "output_type": "display_data"
    }
   ],
   "source": [
    "def calculate_score(calculated, expected):\n",
    "    student_result = set()\n",
    "    calculated = np.array(calculated)\n",
    "    if calculated.shape[0] != len(expected):\n",
    "      print(calculated.shape[0], len(expected))\n",
    "      return 0, {'Incorrect number of sources!'}\n",
    "    for i in range(calculated.shape[0]):\n",
    "        scipy.io.wavfile.write(\"temp.wav\",22050,calculated[i,:])\n",
    "        r = sr.Recognizer()\n",
    "        with sr.AudioFile(\"temp.wav\") as source:\n",
    "            audio = r.record(source)\n",
    "        try:\n",
    "            text = r.recognize_sphinx(audio)\n",
    "            student_result.add(text.lower())\n",
    "        except:\n",
    "            student_result.add(\"Sphinx could not understand audio\")\n",
    "    score = len(student_result.intersection(expected))/len(expected)\n",
    "    return score, student_result\n",
    "     \n",
    "if __name__ == '__main__':\n",
    "    groundtruth = [{\"hello how are you\"}, {\"nice to meet you\",\"how are you\"}, {\"how are you\",\"good morning\",\"nice to meet you\"}]\n",
    "    \n",
    "    output = [['Dataset', 'Expected Output', 'Your Output', 'Grade', 'Points Awarded']]\n",
    "    for i in range(1,4):\n",
    "        directory_name = 'dataset{}'.format(i)\n",
    "        student_output = duet_source_separation(directory_name, i)\n",
    "        result = calculate_score(student_output, groundtruth[i-1])   \n",
    "        output.append([\n",
    "            str(i),\n",
    "            str(groundtruth[i-1]), \n",
    "            str(result[1]), \n",
    "            \"{:2.2f}%\".format(result[0] * 100),\n",
    "            \"{:1.2f} / 5.0\".format(result[0] * 5),\n",
    "        ])\n",
    "\n",
    "    output.append([\n",
    "        '<i>👻 Hidden test 1 👻</i>', \n",
    "        '<i>???</i>', \n",
    "        '<i>???</i>', \n",
    "        '<i>???</i>', \n",
    "        \"<i>???</i> / 10.0\"])\n",
    "    output.append([\n",
    "        '<i>...</i>', \n",
    "        '<i>...</i>', \n",
    "        '<i>...</i>', \n",
    "        '<i>...</i>', \n",
    "        \"<i>...</i>\"])\n",
    "    output.append([\n",
    "        '<i>👻 Hidden test 7 👻</i>', \n",
    "        '<i>???</i>', \n",
    "        '<i>???</i>', \n",
    "        '<i>???</i>', \n",
    "        \"<i>???</i> / 10.0\"])\n",
    "    display_table(output)"
   ]
  },
  {
   "cell_type": "markdown",
   "metadata": {
    "id": "gogDNdnbddUM"
   },
   "source": [
    "---\n",
    "## Rubric\n",
    "You will be graded on the three data points provided to you (5 points each) and seven additional data points under different settings(10 points each). We will use the same code from the **Running and Testing** section above to grade all 10 traces of data. We will run ASR on your output to see if it generates the corrected separated speech signal. Output order does not matter. Percentage of grade for each data point is based on how many sources you estimated correctly (i.e., assume there are n sources, then you will get $\\frac{1}{n} * 100\\%$ for each correctedly estimated source)."
   ]
  },
  {
   "cell_type": "markdown",
   "metadata": {
    "id": "a_ApDXSrddUM"
   },
   "source": [
    "---\n",
    "## Submission Guidlines\n",
    "This Jupyter notebook (`MP2.ipynb`) is the only file you need to submit on Gradescope. As mentioned earlier, you will only be graded using your implementation of the `duet_source_separation` function, which should only return the calculated **NOT** output any plots or data. \n",
    "\n",
    "**Make sure any code you added to this notebook, except for import statements, is either in a function or guarded by `__main__`(which won't be run by the autograder). Gradescope will give you immediate feedback using the provided test cases. It is your responsibility to check the output before the deadline to ensure your submission runs with the autograder.**"
   ]
  }
 ],
 "metadata": {
  "colab": {
   "provenance": []
  },
  "kernelspec": {
   "display_name": "Python 3 (ipykernel)",
   "language": "python",
   "name": "python3"
  },
  "language_info": {
   "codemirror_mode": {
    "name": "ipython",
    "version": 3
   },
   "file_extension": ".py",
   "mimetype": "text/x-python",
   "name": "python",
   "nbconvert_exporter": "python",
   "pygments_lexer": "ipython3",
   "version": "3.13.1"
  },
  "vscode": {
   "interpreter": {
    "hash": "397704579725e15f5c7cb49fe5f0341eb7531c82d19f2c29d197e8b64ab5776b"
   }
  }
 },
 "nbformat": 4,
 "nbformat_minor": 4
}
