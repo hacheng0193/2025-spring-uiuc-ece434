{
 "cells": [
  {
   "cell_type": "code",
   "execution_count": 8,
   "metadata": {},
   "outputs": [
    {
     "name": "stdout",
     "output_type": "stream",
     "text": [
      "Sphinx thinks you said how are you there and you get your knee\n"
     ]
    }
   ],
   "source": [
    "import speech_recognition as sr\n",
    "import scipy.io.wavfile\n",
    "r = sr.Recognizer()\n",
    "with sr.AudioFile(\"temp.wav\") as source:\n",
    "    audio = r.record(source)\n",
    "try:\n",
    "    text = r.recognize_sphinx(audio)\n",
    "    print(\"Sphinx thinks you said \" + text)\n",
    "except sr.UnknownValueError:\n",
    "    print(\"Sphinx could not understand audio\")"
   ]
  }
 ],
 "metadata": {
  "kernelspec": {
   "display_name": "Python 3",
   "language": "python",
   "name": "python3"
  },
  "language_info": {
   "codemirror_mode": {
    "name": "ipython",
    "version": 3
   },
   "file_extension": ".py",
   "mimetype": "text/x-python",
   "name": "python",
   "nbconvert_exporter": "python",
   "pygments_lexer": "ipython3",
   "version": "3.13.1"
  }
 },
 "nbformat": 4,
 "nbformat_minor": 2
}
